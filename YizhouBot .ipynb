{
 "cells": [
  {
   "cell_type": "code",
   "execution_count": 43,
   "metadata": {},
   "outputs": [],
   "source": [
    "import pandas as pd\n",
    "from sklearn import linear_model as lm\n",
    "import tkinter as tk \n",
    "import statsmodels.api as sm\n"
   ]
  },
  {
   "cell_type": "markdown",
   "metadata": {},
   "source": [
    "This cell trains the regression, based on Yizhou's inputs"
   ]
  },
  {
   "cell_type": "code",
   "execution_count": 44,
   "metadata": {
    "scrolled": true
   },
   "outputs": [
    {
     "name": "stderr",
     "output_type": "stream",
     "text": [
      "/opt/pyenv/versions/anaconda3-2019.03/lib/python3.7/site-packages/ipykernel_launcher.py:1: FutureWarning: from_csv is deprecated. Please use read_csv(...) instead. Note that some of the default arguments are different, so please refer to the documentation for from_csv when changing your function calls\n",
      "  \"\"\"Entry point for launching an IPython kernel.\n"
     ]
    },
    {
     "name": "stdout",
     "output_type": "stream",
     "text": [
      "Intercept: \n",
      " 20.550588959854604\n",
      "Coefficients: \n",
      " [ 0.06627348 -0.17837801  0.0028515 ]\n"
     ]
    }
   ],
   "source": [
    "df = pd.DataFrame.from_csv('MergedDataAudioandFlappersRun1FULL.csv')#Change this to the file that you want to train the regression off of\n",
    "X = df[[\"flapper2\",\"flapper3\", \"accY\"]] # here we have 2 input variables for multiple regression. If you just want to use one variable for simple linear regression, then use X = df['Interest_Rate'] for example.Alternatively, you may add additional variables within the brackets\n",
    "Y = df['Cluster'] # output variable (what we are trying to predict)\n",
    "\n",
    "regr = lm.LinearRegression()\n",
    "regr.fit(X, Y)\n",
    "\n",
    "print('Intercept: \\n', regr.intercept_)\n",
    "print('Coefficients: \\n', regr.coef_)\n",
    "\n"
   ]
  },
  {
   "cell_type": "markdown",
   "metadata": {},
   "source": [
    "This cell predicts the leak incidence based on the regression trained above"
   ]
  },
  {
   "cell_type": "code",
   "execution_count": 45,
   "metadata": {},
   "outputs": [
    {
     "name": "stdout",
     "output_type": "stream",
     "text": [
      "   flapper2  flapper3  accY  predictions\n",
      "0         1         3     2    20.087431\n",
      "1         5         7    12    19.667528\n",
      "2        30         9    40    21.047451\n"
     ]
    }
   ],
   "source": [
    "d = {'flapper2': [1, 5, 30], 'flapper3': [3, 7, 9], 'accY': [2, 12, 40]} #Replace this with a path to the data you want to predic on\n",
    "dfTest = pd.DataFrame(data=d)\n",
    "preds=regr.predict(dfTest)\n",
    "dfTest[[\"predictions\"]]=pd.DataFrame(preds)\n",
    "print(dfTest)#dfTest will contain a column of predictions with your results\n"
   ]
  },
  {
   "cell_type": "code",
   "execution_count": null,
   "metadata": {},
   "outputs": [],
   "source": []
  }
 ],
 "metadata": {
  "kernelspec": {
   "display_name": "Python 3",
   "language": "python",
   "name": "python3"
  },
  "language_info": {
   "codemirror_mode": {
    "name": "ipython",
    "version": 3
   },
   "file_extension": ".py",
   "mimetype": "text/x-python",
   "name": "python",
   "nbconvert_exporter": "python",
   "pygments_lexer": "ipython3",
   "version": "3.7.3"
  }
 },
 "nbformat": 4,
 "nbformat_minor": 2
}
